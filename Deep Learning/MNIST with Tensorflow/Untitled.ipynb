{
 "cells": [
  {
   "cell_type": "code",
   "execution_count": 2,
   "id": "8009d21b-5de2-4900-b018-aca91ab5ab3a",
   "metadata": {},
   "outputs": [
    {
     "name": "stdout",
     "output_type": "stream",
     "text": [
      "WARNING:tensorflow:From C:\\Users\\Duke\\AppData\\Local\\Programs\\Python\\Python311\\Lib\\site-packages\\keras\\src\\losses.py:2976: The name tf.losses.sparse_softmax_cross_entropy is deprecated. Please use tf.compat.v1.losses.sparse_softmax_cross_entropy instead.\n",
      "\n"
     ]
    }
   ],
   "source": [
    "import tensorflow as tf"
   ]
  },
  {
   "cell_type": "code",
   "execution_count": 7,
   "id": "1cd448c7-0b71-4692-a56f-753260745630",
   "metadata": {},
   "outputs": [],
   "source": [
    "import numpy as np\n",
    "import pandas as pd\n",
    "import matplotlib.pyplot as plt\n",
    "%matplotlib inline"
   ]
  },
  {
   "cell_type": "code",
   "execution_count": 8,
   "id": "1f5dec2f-c18a-41e2-9f26-cfa61284e16a",
   "metadata": {},
   "outputs": [],
   "source": [
    "from tensorflow.keras.preprocessing.image import ImageDataGenerator"
   ]
  },
  {
   "cell_type": "code",
   "execution_count": 25,
   "id": "0158f72f-aec1-464c-bd7b-69392d5b62e3",
   "metadata": {},
   "outputs": [],
   "source": [
    "import os\n",
    "import idx2numpy\n",
    "from tensorflow.keras.utils import to_categorical\n",
    "\n",
    "# Specify the path to the directory containing the ubyte files\n",
    "data_dir = 'C:\\\\Users\\\\Duke\\\\Desktop\\\\Deep Learning and Machine Learning\\\\Deep Learning\\\\MNIST_data'\n",
    "\n",
    "# Load the training set\n",
    "train_images_path = os.path.join(data_dir, 'train-images.idx3-ubyte')\n",
    "train_labels_path = os.path.join(data_dir, 'train-labels.idx1-ubyte')\n",
    "\n",
    "# Use idx2numpy to convert ubyte files to numpy arrays\n",
    "train_images = idx2numpy.convert_from_file(train_images_path)\n",
    "train_labels = idx2numpy.convert_from_file(train_labels_path)\n",
    "\n",
    "# Normalize pixel values to be between 0 and 1\n",
    "train_images = train_images.astype('float32') / 255.0\n",
    "\n",
    "# Reshape the images to (28, 28, 1) if they are not already in that shape\n",
    "train_images = np.expand_dims(train_images, axis=-1)\n",
    "\n",
    "# Convert labels to one-hot encoding\n",
    "train_labels = to_categorical(train_labels, num_classes=10)  # Assuming 10 classes for MNIST\n",
    "\n",
    "# Now, you can use train_images and train_labels with your TensorFlow model\n"
   ]
  },
  {
   "cell_type": "code",
   "execution_count": 36,
   "id": "412713f9-d050-4bfc-8ca1-d2b56cf81ec3",
   "metadata": {},
   "outputs": [
    {
     "data": {
      "text/plain": [
       "<matplotlib.image.AxesImage at 0x1a217a3b910>"
      ]
     },
     "execution_count": 36,
     "metadata": {},
     "output_type": "execute_result"
    },
    {
     "data": {
      "image/png": "[encoded data removed]",
      "text/plain": [
       "<Figure size 640x480 with 1 Axes>"
      ]
     },
     "metadata": {},
     "output_type": "display_data"
    }
   ],
   "source": [
    "plt.imshow(train_images[2].reshape(28,28), cmap='gist_gray')"
   ]
  },
  {
   "cell_type": "code",
   "execution_count": 37,
   "id": "ed3f5c47-3c28-40a8-a08f-de5603bba688",
   "metadata": {},
   "outputs": [
    {
     "data": {
      "text/plain": [
       "1.0"
      ]
     },
     "execution_count": 37,
     "metadata": {},
     "output_type": "execute_result"
    }
   ],
   "source": [
    "train_images[1].max()"
   ]
  },
  {
   "cell_type": "code",
   "execution_count": 38,
   "id": "4b47d2ca-b22e-4d49-b041-f98e71012119",
   "metadata": {},
   "outputs": [
    {
     "data": {
      "text/plain": [
       "<matplotlib.image.AxesImage at 0x1a217e43550>"
      ]
     },
     "execution_count": 38,
     "metadata": {},
     "output_type": "execute_result"
    },
    {
     "data": {
      "image/png": "[encoded data removed]",
      "text/plain": [
       "<Figure size 640x480 with 1 Axes>"
      ]
     },
     "metadata": {},
     "output_type": "display_data"
    }
   ],
   "source": [
    "plt.imshow(train_images[1].reshape(784,1), cmap='gist_gray',aspect= 0.02)"
   ]
  },
  {
   "cell_type": "code",
   "execution_count": 51,
   "id": "7682558f-cf4a-4609-859d-42b57c203d38",
   "metadata": {},
   "outputs": [
    {
     "name": "stdout",
     "output_type": "stream",
     "text": [
      "Model: \"sequential_4\"\n",
      "_________________________________________________________________\n",
      " Layer (type)                Output Shape              Param #   \n",
      "=================================================================\n",
      " flatten_3 (Flatten)         (None, 784)               0         \n",
      "                                                                 \n",
      " dense_6 (Dense)             (None, 128)               100480    \n",
      "                                                                 \n",
      " dropout_3 (Dropout)         (None, 128)               0         \n",
      "                                                                 \n",
      " dense_7 (Dense)             (None, 10)                1290      \n",
      "                                                                 \n",
      "=================================================================\n",
      "Total params: 101770 (397.54 KB)\n",
      "Trainable params: 101770 (397.54 KB)\n",
      "Non-trainable params: 0 (0.00 Byte)\n",
      "_________________________________________________________________\n"
     ]
    }
   ],
   "source": [
    "input_shape = (28, 28, 1)\n",
    "\n",
    "from tensorflow.keras.models import Sequential\n",
    "from tensorflow.keras.layers import Dropout,Dense,Flatten\n",
    "\n",
    "# Create a sequential model\n",
    "model = Sequential()\n",
    "\n",
    "# Flatten the input for fully connected layers\n",
    "model.add(Flatten(input_shape=input_shape))\n",
    "\n",
    "# Add a dense layer with ReLU activation\n",
    "model.add(Dense(128, activation='relu'))\n",
    "\n",
    "# Add a dropout layer for regularization\n",
    "model.add(Dropout(0.5))\n",
    "\n",
    "# Add the output layer with softmax activation (assuming 10 classes for MNIST)\n",
    "model.add(Dense(10, activation='softmax'))\n",
    "\n",
    "model.compile(optimizer='adam',\n",
    "              loss='categorical_crossentropy',\n",
    "              metrics=['accuracy'])\n",
    "\n",
    "# Display the model summary\n",
    "model.summary()"
   ]
  },
  {
   "cell_type": "code",
   "execution_count": 52,
   "id": "2a853772-327a-427e-9180-7e79d53f2bb7",
   "metadata": {},
   "outputs": [
    {
     "name": "stdout",
     "output_type": "stream",
     "text": [
      "Epoch 1/10\n",
      "WARNING:tensorflow:From C:\\Users\\Duke\\AppData\\Local\\Programs\\Python\\Python311\\Lib\\site-packages\\keras\\src\\utils\\tf_utils.py:492: The name tf.ragged.RaggedTensorValue is deprecated. Please use tf.compat.v1.ragged.RaggedTensorValue instead.\n",
      "\n",
      "WARNING:tensorflow:From C:\\Users\\Duke\\AppData\\Local\\Programs\\Python\\Python311\\Lib\\site-packages\\keras\\src\\engine\\base_layer_utils.py:384: The name tf.executing_eagerly_outside_functions is deprecated. Please use tf.compat.v1.executing_eagerly_outside_functions instead.\n",
      "\n",
      "1500/1500 [==============================] - 27s 7ms/step - loss: 0.4301 - accuracy: 0.8725 - val_loss: 0.1765 - val_accuracy: 0.9491\n",
      "Epoch 2/10\n",
      "1500/1500 [==============================] - 9s 6ms/step - loss: 0.2410 - accuracy: 0.9285 - val_loss: 0.1439 - val_accuracy: 0.9598\n",
      "Epoch 3/10\n",
      "1500/1500 [==============================] - 9s 6ms/step - loss: 0.1994 - accuracy: 0.9404 - val_loss: 0.1169 - val_accuracy: 0.9668\n",
      "Epoch 4/10\n",
      "1500/1500 [==============================] - 9s 6ms/step - loss: 0.1753 - accuracy: 0.9470 - val_loss: 0.1130 - val_accuracy: 0.9683\n",
      "Epoch 5/10\n",
      "1500/1500 [==============================] - 10s 6ms/step - loss: 0.1607 - accuracy: 0.9503 - val_loss: 0.1048 - val_accuracy: 0.9716\n",
      "Epoch 6/10\n",
      "1500/1500 [==============================] - 10s 7ms/step - loss: 0.1462 - accuracy: 0.9555 - val_loss: 0.0994 - val_accuracy: 0.9714\n",
      "Epoch 7/10\n",
      "1500/1500 [==============================] - 9s 6ms/step - loss: 0.1357 - accuracy: 0.9578 - val_loss: 0.0933 - val_accuracy: 0.9732\n",
      "Epoch 8/10\n",
      "1500/1500 [==============================] - 9s 6ms/step - loss: 0.1332 - accuracy: 0.9588 - val_loss: 0.0966 - val_accuracy: 0.9741\n",
      "Epoch 9/10\n",
      "1500/1500 [==============================] - 9s 6ms/step - loss: 0.1233 - accuracy: 0.9624 - val_loss: 0.0943 - val_accuracy: 0.9733\n",
      "Epoch 10/10\n",
      "1500/1500 [==============================] - 10s 6ms/step - loss: 0.1196 - accuracy: 0.9634 - val_loss: 0.0908 - val_accuracy: 0.9756\n"
     ]
    }
   ],
   "source": [
    "history = model.fit(\n",
    "    train_images,            # Input images\n",
    "    train_labels,            # Target labels\n",
    "    epochs=10,               # Number of training epochs\n",
    "    batch_size=32,           # Batch size\n",
    "    validation_split=0.2     # Fraction of training data to be used as validation set\n",
    ")"
   ]
  },
  {
   "cell_type": "code",
   "execution_count": 61,
   "id": "bfcf8a49-a2ca-4990-87a8-6237092d64ba",
   "metadata": {},
   "outputs": [],
   "source": [
    "history_data = pd.DataFrame(data=history.history)"
   ]
  },
  {
   "cell_type": "code",
   "execution_count": 62,
   "id": "a2262365-bae3-4940-a9eb-aa2602b89765",
   "metadata": {},
   "outputs": [
    {
     "data": {
      "text/plain": [
       "<Axes: >"
      ]
     },
     "execution_count": 62,
     "metadata": {},
     "output_type": "execute_result"
    },
    {
     "data": {
      "image/png": "[encoded data removed]",
      "text/plain": [
       "<Figure size 640x480 with 1 Axes>"
      ]
     },
     "metadata": {},
     "output_type": "display_data"
    }
   ],
   "source": [
    "history_data.plot()"
   ]
  },
  {
   "cell_type": "code",
   "execution_count": 70,
   "id": "12cdd68f-5576-47d1-bec2-b0a614d4135f",
   "metadata": {},
   "outputs": [],
   "source": [
    "data_dir = 'C:\\\\Users\\\\Duke\\\\Desktop\\\\Deep Learning and Machine Learning\\\\Deep Learning\\\\MNIST_data'\n",
    "\n",
    "# Load the training set\n",
    "test_images_path = os.path.join(data_dir, 't10k-images.idx3-ubyte')\n",
    "test_labels_path = os.path.join(data_dir, 't10k-labels.idx1-ubyte')\n",
    "\n",
    "# Use idx2numpy to convert ubyte files to numpy arrays\n",
    "test_images = idx2numpy.convert_from_file(test_images_path)\n",
    "test_labels = idx2numpy.convert_from_file(test_labels_path)\n",
    "\n",
    "# Normalize pixel values to be between 0 and 1\n",
    "test_images = test_images.astype('float32') / 255.0\n",
    "\n",
    "# Reshape the images to (28, 28, 1) if they are not already in that shape\n",
    "test_images = np.expand_dims(test_images, axis=-1)\n",
    "\n",
    "# Convert labels to one-hot encoding\n",
    "test_labels = to_categorical(test_labels, num_classes=10)  # Assuming 10 classes for MNIST\n",
    "\n",
    "# Now, you can use test_images and train_labels with your TensorFlow model\n"
   ]
  },
  {
   "cell_type": "code",
   "execution_count": 71,
   "id": "384085ea-d39e-476b-84c7-5fcee06d8b0b",
   "metadata": {},
   "outputs": [
    {
     "name": "stdout",
     "output_type": "stream",
     "text": [
      "313/313 [==============================] - 3s 3ms/step\n"
     ]
    }
   ],
   "source": [
    "predictions = model.predict(test_images)"
   ]
  },
  {
   "cell_type": "code",
   "execution_count": 72,
   "id": "7d5ebab9-afe9-48da-8cff-f8aac511d006",
   "metadata": {},
   "outputs": [],
   "source": [
    "true_labels = np.argmax(test_labels, axis=1)\n",
    "predicted_labels = np.argmax(predictions, axis=1)"
   ]
  },
  {
   "cell_type": "code",
   "execution_count": 73,
   "id": "52d7fbe6-28bd-449d-834f-70d913bf0ab5",
   "metadata": {},
   "outputs": [],
   "source": [
    "from sklearn.metrics import confusion_matrix, classification_report"
   ]
  },
  {
   "cell_type": "code",
   "execution_count": 74,
   "id": "9b504743-9bdd-4f96-ab97-3eea3066a15b",
   "metadata": {},
   "outputs": [
    {
     "data": {
      "text/plain": [
       "array([[ 970,    0,    2,    2,    2,    0,    2,    1,    1,    0],\n",
       "       [   0, 1121,    4,    2,    0,    1,    1,    1,    5,    0],\n",
       "       [   3,    2, 1003,    2,    4,    0,    2,    7,    9,    0],\n",
       "       [   0,    0,    8,  989,    0,    4,    0,    5,    4,    0],\n",
       "       [   1,    0,    1,    0,  964,    0,    5,    1,    2,    8],\n",
       "       [   2,    1,    0,    6,    2,  864,    6,    2,    4,    5],\n",
       "       [   5,    3,    1,    1,    6,    4,  932,    0,    6,    0],\n",
       "       [   1,    4,    9,    4,    0,    0,    0,  999,    2,    9],\n",
       "       [   4,    0,    3,    4,    5,    4,    2,    8,  942,    2],\n",
       "       [   2,    4,    0,    6,   13,    5,    1,    4,    3,  971]],\n",
       "      dtype=int64)"
      ]
     },
     "execution_count": 74,
     "metadata": {},
     "output_type": "execute_result"
    }
   ],
   "source": [
    "confusion_matrix(true_labels, predicted_labels)"
   ]
  },
  {
   "cell_type": "code",
   "execution_count": 75,
   "id": "2785ebc8-36cb-4caf-8337-cea071bcc542",
   "metadata": {},
   "outputs": [
    {
     "data": {
      "text/plain": [
       "'              precision    recall  f1-score   support\\n\\n           0       0.98      0.99      0.99       980\\n           1       0.99      0.99      0.99      1135\\n           2       0.97      0.97      0.97      1032\\n           3       0.97      0.98      0.98      1010\\n           4       0.97      0.98      0.97       982\\n           5       0.98      0.97      0.97       892\\n           6       0.98      0.97      0.98       958\\n           7       0.97      0.97      0.97      1028\\n           8       0.96      0.97      0.97       974\\n           9       0.98      0.96      0.97      1009\\n\\n    accuracy                           0.98     10000\\n   macro avg       0.98      0.98      0.98     10000\\nweighted avg       0.98      0.98      0.98     10000\\n'"
      ]
     },
     "execution_count": 75,
     "metadata": {},
     "output_type": "execute_result"
    }
   ],
   "source": [
    "classification_report(true_labels, predicted_labels)"
   ]
  },
  {
   "cell_type": "code",
   "execution_count": 101,
   "id": "1f954715-40d9-4f64-a206-3e72e71bd4ac",
   "metadata": {},
   "outputs": [
    {
     "data": {
      "image/png": "[encoded data removed]",
      "text/plain": [
       "<Figure size 640x480 with 5 Axes>"
      ]
     },
     "metadata": {},
     "output_type": "display_data"
    }
   ],
   "source": [
    "num_examples = 5\n",
    "random_indices = np.random.choice(len(test_images), num_examples)\n",
    "\n",
    "# Plot the images with true and predicted labels\n",
    "for i, idx in enumerate(random_indices):\n",
    "    plt.subplot(1, num_examples, i + 1)\n",
    "    plt.imshow(test_images[idx].reshape(28, 28), cmap='gray')  # Adjust dimensions if needed\n",
    "    plt.title(f'True: {true_labels[idx]}\\nPredicted: {predicted_labels[idx]}')\n",
    "    plt.axis('off')\n",
    "\n",
    "plt.show()"
   ]
  },
  {
   "cell_type": "code",
   "execution_count": null,
   "id": "fc646df4-5eb6-47e1-9446-3e7eae1550bd",
   "metadata": {},
   "outputs": [],
   "source": []
  },
  {
   "cell_type": "code",
   "execution_count": null,
   "id": "af1aa8fe-58a7-4efa-98bb-25896c263c21",
   "metadata": {},
   "outputs": [],
   "source": []
  },
  {
   "cell_type": "code",
   "execution_count": null,
   "id": "1e8db76f-6686-4b41-b651-6f6e74da160f",
   "metadata": {},
   "outputs": [],
   "source": []
  }
 ],
 "metadata": {
  "kernelspec": {
   "display_name": "Python 3 (ipykernel)",
   "language": "python",
   "name": "python3"
  },
  "language_info": {
   "codemirror_mode": {
    "name": "ipython",
    "version": 3
   },
   "file_extension": ".py",
   "mimetype": "text/x-python",
   "name": "python",
   "nbconvert_exporter": "python",
   "pygments_lexer": "ipython3",
   "version": "3.11.5"
  }
 },
 "nbformat": 4,
 "nbformat_minor": 5
}
