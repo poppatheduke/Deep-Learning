{
 "cells": [
  {
   "cell_type": "code",
   "execution_count": 2,
   "id": "cdf118f9-c5cc-4c90-891a-fe656de5d624",
   "metadata": {},
   "outputs": [
    {
     "name": "stderr",
     "output_type": "stream",
     "text": [
      "The syntax of the command is incorrect.\n"
     ]
    }
   ],
   "source": [
    "!pip install ffmpy &> /dev/null"
   ]
  },
  {
   "cell_type": "code",
   "execution_count": 5,
   "id": "5eaeca71-64cf-4437-9036-ae70e32b95f0",
   "metadata": {},
   "outputs": [
    {
     "name": "stdout",
     "output_type": "stream",
     "text": [
      "^C\n"
     ]
    },
    {
     "name": "stderr",
     "output_type": "stream",
     "text": [
      "fatal: destination path 'Deep-Fakes' already exists and is not an empty directory.\n",
      "fatal: unable to access 'https://github.com/AliaksandrSiarohin/first-order-model/': Could not resolve host: github.com\n",
      "fatal: unable to access 'https://github.com//poppatheduke/Deep-Fakes/': Could not resolve host: github.com\n",
      "error: RPC failed; curl 56 Recv failure: Connection was reset\n",
      "error: 1932 bytes of body are still expected\n",
      "fetch-pack: unexpected disconnect while reading sideband packet\n",
      "fatal: early EOF\n",
      "fatal: fetch-pack: invalid index-pack output\n",
      "error: RPC failed; curl 92 HTTP/2 stream 5 was not closed cleanly: CANCEL (err 8)\n",
      "error: 5948 bytes of body are still expected\n",
      "fetch-pack: unexpected disconnect while reading sideband packet\n",
      "fatal: early EOF\n",
      "fatal: fetch-pack: invalid index-pack output\n"
     ]
    }
   ],
   "source": [
    "!git init -q\n",
    "!git pull -q origin master\n",
    "!git clone -q https://github.com//poppatheduke/Deep-Fakes"
   ]
  },
  {
   "cell_type": "code",
   "execution_count": null,
   "id": "6221077e-915e-471b-ad87-4a8b54084477",
   "metadata": {},
   "outputs": [],
   "source": []
  }
 ],
 "metadata": {
  "kernelspec": {
   "display_name": "Python 3 (ipykernel)",
   "language": "python",
   "name": "python3"
  },
  "language_info": {
   "codemirror_mode": {
    "name": "ipython",
    "version": 3
   },
   "file_extension": ".py",
   "mimetype": "text/x-python",
   "name": "python",
   "nbconvert_exporter": "python",
   "pygments_lexer": "ipython3",
   "version": "3.11.5"
  }
 },
 "nbformat": 4,
 "nbformat_minor": 5
}
