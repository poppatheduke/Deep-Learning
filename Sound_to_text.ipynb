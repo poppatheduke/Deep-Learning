{
  "nbformat": 4,
  "nbformat_minor": 0,
  "metadata": {
    "colab": {
      "provenance": [],
      "gpuType": "T4",
      "authorship_tag": "ABX9TyPOj3RPXalh6by8osZtUgxY",
      "include_colab_link": true
    },
    "kernelspec": {
      "name": "python3",
      "display_name": "Python 3"
    },
    "language_info": {
      "name": "python"
    },
    "widgets": {
      "application/vnd.jupyter.widget-state+json": {
        "9c2fb69387024ba9abb8681f15e167c8": {
          "model_module": "@jupyter-widgets/controls",
          "model_name": "HBoxModel",
          "model_module_version": "1.5.0",
          "state": {
            "_dom_classes": [],
            "_model_module": "@jupyter-widgets/controls",
            "_model_module_version": "1.5.0",
            "_model_name": "HBoxModel",
            "_view_count": null,
            "_view_module": "@jupyter-widgets/controls",
            "_view_module_version": "1.5.0",
            "_view_name": "HBoxView",
            "box_style": "",
            "children": [
              "IPY_MODEL_825a434c6350468fbacf239defe3cfa6",
              "IPY_MODEL_c3e1151039b44bc88af1c8303ccf869c",
              "IPY_MODEL_6a090b2a2f6d4d98bd109711c281d025"
            ],
            "layout": "IPY_MODEL_a1ef8e9fda484e878b1863f44d245551"
          }
        },
        "825a434c6350468fbacf239defe3cfa6": {
          "model_module": "@jupyter-widgets/controls",
          "model_name": "HTMLModel",
          "model_module_version": "1.5.0",
          "state": {
            "_dom_classes": [],
            "_model_module": "@jupyter-widgets/controls",
            "_model_module_version": "1.5.0",
            "_model_name": "HTMLModel",
            "_view_count": null,
            "_view_module": "@jupyter-widgets/controls",
            "_view_module_version": "1.5.0",
            "_view_name": "HTMLView",
            "description": "",
            "description_tooltip": null,
            "layout": "IPY_MODEL_826d821f42814c14a0b53943a721f80f",
            "placeholder": "​",
            "style": "IPY_MODEL_deef545d86cc4b5aa1b876d7f7be06a1",
            "value": "tokenizer_config.json: 100%"
          }
        },
        "c3e1151039b44bc88af1c8303ccf869c": {
          "model_module": "@jupyter-widgets/controls",
          "model_name": "FloatProgressModel",
          "model_module_version": "1.5.0",
          "state": {
            "_dom_classes": [],
            "_model_module": "@jupyter-widgets/controls",
            "_model_module_version": "1.5.0",
            "_model_name": "FloatProgressModel",
            "_view_count": null,
            "_view_module": "@jupyter-widgets/controls",
            "_view_module_version": "1.5.0",
            "_view_name": "ProgressView",
            "bar_style": "success",
            "description": "",
            "description_tooltip": null,
            "layout": "IPY_MODEL_765eb1028f964bf7a4966463c17cb36b",
            "max": 163,
            "min": 0,
            "orientation": "horizontal",
            "style": "IPY_MODEL_bf7515f9c2784c7bbba17cbe8c944e32",
            "value": 163
          }
        },
        "6a090b2a2f6d4d98bd109711c281d025": {
          "model_module": "@jupyter-widgets/controls",
          "model_name": "HTMLModel",
          "model_module_version": "1.5.0",
          "state": {
            "_dom_classes": [],
            "_model_module": "@jupyter-widgets/controls",
            "_model_module_version": "1.5.0",
            "_model_name": "HTMLModel",
            "_view_count": null,
            "_view_module": "@jupyter-widgets/controls",
            "_view_module_version": "1.5.0",
            "_view_name": "HTMLView",
            "description": "",
            "description_tooltip": null,
            "layout": "IPY_MODEL_5aff730e3aee49c88cc5280caf487c3d",
            "placeholder": "​",
            "style": "IPY_MODEL_a1b3cbe147ab44119aee0ea8230a6b81",
            "value": " 163/163 [00:00&lt;00:00, 5.08kB/s]"
          }
        },
        "a1ef8e9fda484e878b1863f44d245551": {
          "model_module": "@jupyter-widgets/base",
          "model_name": "LayoutModel",
          "model_module_version": "1.2.0",
          "state": {
            "_model_module": "@jupyter-widgets/base",
            "_model_module_version": "1.2.0",
            "_model_name": "LayoutModel",
            "_view_count": null,
            "_view_module": "@jupyter-widgets/base",
            "_view_module_version": "1.2.0",
            "_view_name": "LayoutView",
            "align_content": null,
            "align_items": null,
            "align_self": null,
            "border": null,
            "bottom": null,
            "display": null,
            "flex": null,
            "flex_flow": null,
            "grid_area": null,
            "grid_auto_columns": null,
            "grid_auto_flow": null,
            "grid_auto_rows": null,
            "grid_column": null,
            "grid_gap": null,
            "grid_row": null,
            "grid_template_areas": null,
            "grid_template_columns": null,
            "grid_template_rows": null,
            "height": null,
            "justify_content": null,
            "justify_items": null,
            "left": null,
            "margin": null,
            "max_height": null,
            "max_width": null,
            "min_height": null,
            "min_width": null,
            "object_fit": null,
            "object_position": null,
            "order": null,
            "overflow": null,
            "overflow_x": null,
            "overflow_y": null,
            "padding": null,
            "right": null,
            "top": null,
            "visibility": null,
            "width": null
          }
        },
        "826d821f42814c14a0b53943a721f80f": {
          "model_module": "@jupyter-widgets/base",
          "model_name": "LayoutModel",
          "model_module_version": "1.2.0",
          "state": {
            "_model_module": "@jupyter-widgets/base",
            "_model_module_version": "1.2.0",
            "_model_name": "LayoutModel",
            "_view_count": null,
            "_view_module": "@jupyter-widgets/base",
            "_view_module_version": "1.2.0",
            "_view_name": "LayoutView",
            "align_content": null,
            "align_items": null,
            "align_self": null,
            "border": null,
            "bottom": null,
            "display": null,
            "flex": null,
            "flex_flow": null,
            "grid_area": null,
            "grid_auto_columns": null,
            "grid_auto_flow": null,
            "grid_auto_rows": null,
            "grid_column": null,
            "grid_gap": null,
            "grid_row": null,
            "grid_template_areas": null,
            "grid_template_columns": null,
            "grid_template_rows": null,
            "height": null,
            "justify_content": null,
            "justify_items": null,
            "left": null,
            "margin": null,
            "max_height": null,
            "max_width": null,
            "min_height": null,
            "min_width": null,
            "object_fit": null,
            "object_position": null,
            "order": null,
            "overflow": null,
            "overflow_x": null,
            "overflow_y": null,
            "padding": null,
            "right": null,
            "top": null,
            "visibility": null,
            "width": null
          }
        },
        "deef545d86cc4b5aa1b876d7f7be06a1": {
          "model_module": "@jupyter-widgets/controls",
          "model_name": "DescriptionStyleModel",
          "model_module_version": "1.5.0",
          "state": {
            "_model_module": "@jupyter-widgets/controls",
            "_model_module_version": "1.5.0",
            "_model_name": "DescriptionStyleModel",
            "_view_count": null,
            "_view_module": "@jupyter-widgets/base",
            "_view_module_version": "1.2.0",
            "_view_name": "StyleView",
            "description_width": ""
          }
        },
        "765eb1028f964bf7a4966463c17cb36b": {
          "model_module": "@jupyter-widgets/base",
          "model_name": "LayoutModel",
          "model_module_version": "1.2.0",
          "state": {
            "_model_module": "@jupyter-widgets/base",
            "_model_module_version": "1.2.0",
            "_model_name": "LayoutModel",
            "_view_count": null,
            "_view_module": "@jupyter-widgets/base",
            "_view_module_version": "1.2.0",
            "_view_name": "LayoutView",
            "align_content": null,
            "align_items": null,
            "align_self": null,
            "border": null,
            "bottom": null,
            "display": null,
            "flex": null,
            "flex_flow": null,
            "grid_area": null,
            "grid_auto_columns": null,
            "grid_auto_flow": null,
            "grid_auto_rows": null,
            "grid_column": null,
            "grid_gap": null,
            "grid_row": null,
            "grid_template_areas": null,
            "grid_template_columns": null,
            "grid_template_rows": null,
            "height": null,
            "justify_content": null,
            "justify_items": null,
            "left": null,
            "margin": null,
            "max_height": null,
            "max_width": null,
            "min_height": null,
            "min_width": null,
            "object_fit": null,
            "object_position": null,
            "order": null,
            "overflow": null,
            "overflow_x": null,
            "overflow_y": null,
            "padding": null,
            "right": null,
            "top": null,
            "visibility": null,
            "width": null
          }
        },
        "bf7515f9c2784c7bbba17cbe8c944e32": {
          "model_module": "@jupyter-widgets/controls",
          "model_name": "ProgressStyleModel",
          "model_module_version": "1.5.0",
          "state": {
            "_model_module": "@jupyter-widgets/controls",
            "_model_module_version": "1.5.0",
            "_model_name": "ProgressStyleModel",
            "_view_count": null,
            "_view_module": "@jupyter-widgets/base",
            "_view_module_version": "1.2.0",
            "_view_name": "StyleView",
            "bar_color": null,
            "description_width": ""
          }
        },
        "5aff730e3aee49c88cc5280caf487c3d": {
          "model_module": "@jupyter-widgets/base",
          "model_name": "LayoutModel",
          "model_module_version": "1.2.0",
          "state": {
            "_model_module": "@jupyter-widgets/base",
            "_model_module_version": "1.2.0",
            "_model_name": "LayoutModel",
            "_view_count": null,
            "_view_module": "@jupyter-widgets/base",
            "_view_module_version": "1.2.0",
            "_view_name": "LayoutView",
            "align_content": null,
            "align_items": null,
            "align_self": null,
            "border": null,
            "bottom": null,
            "display": null,
            "flex": null,
            "flex_flow": null,
            "grid_area": null,
            "grid_auto_columns": null,
            "grid_auto_flow": null,
            "grid_auto_rows": null,
            "grid_column": null,
            "grid_gap": null,
            "grid_row": null,
            "grid_template_areas": null,
            "grid_template_columns": null,
            "grid_template_rows": null,
            "height": null,
            "justify_content": null,
            "justify_items": null,
            "left": null,
            "margin": null,
            "max_height": null,
            "max_width": null,
            "min_height": null,
            "min_width": null,
            "object_fit": null,
            "object_position": null,
            "order": null,
            "overflow": null,
            "overflow_x": null,
            "overflow_y": null,
            "padding": null,
            "right": null,
            "top": null,
            "visibility": null,
            "width": null
          }
        },
        "a1b3cbe147ab44119aee0ea8230a6b81": {
          "model_module": "@jupyter-widgets/controls",
          "model_name": "DescriptionStyleModel",
          "model_module_version": "1.5.0",
          "state": {
            "_model_module": "@jupyter-widgets/controls",
            "_model_module_version": "1.5.0",
            "_model_name": "DescriptionStyleModel",
            "_view_count": null,
            "_view_module": "@jupyter-widgets/base",
            "_view_module_version": "1.2.0",
            "_view_name": "StyleView",
            "description_width": ""
          }
        },
        "e46c9abb90334d3e94bc706a80646ec0": {
          "model_module": "@jupyter-widgets/controls",
          "model_name": "HBoxModel",
          "model_module_version": "1.5.0",
          "state": {
            "_dom_classes": [],
            "_model_module": "@jupyter-widgets/controls",
            "_model_module_version": "1.5.0",
            "_model_name": "HBoxModel",
            "_view_count": null,
            "_view_module": "@jupyter-widgets/controls",
            "_view_module_version": "1.5.0",
            "_view_name": "HBoxView",
            "box_style": "",
            "children": [
              "IPY_MODEL_efe27b8fcd8942c0802dbc484996ddc4",
              "IPY_MODEL_7095cf409e394a36989b299c4473cdda",
              "IPY_MODEL_3d2ede36a0ed4a34ba9eaac4d8aab369"
            ],
            "layout": "IPY_MODEL_1aeba34f189c419cb7ba12d048f96c41"
          }
        },
        "efe27b8fcd8942c0802dbc484996ddc4": {
          "model_module": "@jupyter-widgets/controls",
          "model_name": "HTMLModel",
          "model_module_version": "1.5.0",
          "state": {
            "_dom_classes": [],
            "_model_module": "@jupyter-widgets/controls",
            "_model_module_version": "1.5.0",
            "_model_name": "HTMLModel",
            "_view_count": null,
            "_view_module": "@jupyter-widgets/controls",
            "_view_module_version": "1.5.0",
            "_view_name": "HTMLView",
            "description": "",
            "description_tooltip": null,
            "layout": "IPY_MODEL_98b100ba8cef4e1db921d5363bd0192f",
            "placeholder": "​",
            "style": "IPY_MODEL_9cc57cda5a2441779ae2d34e94d3c4d1",
            "value": "vocab.json: 100%"
          }
        },
        "7095cf409e394a36989b299c4473cdda": {
          "model_module": "@jupyter-widgets/controls",
          "model_name": "FloatProgressModel",
          "model_module_version": "1.5.0",
          "state": {
            "_dom_classes": [],
            "_model_module": "@jupyter-widgets/controls",
            "_model_module_version": "1.5.0",
            "_model_name": "FloatProgressModel",
            "_view_count": null,
            "_view_module": "@jupyter-widgets/controls",
            "_view_module_version": "1.5.0",
            "_view_name": "ProgressView",
            "bar_style": "success",
            "description": "",
            "description_tooltip": null,
            "layout": "IPY_MODEL_06fc7cba04874001b55b7811c6420333",
            "max": 291,
            "min": 0,
            "orientation": "horizontal",
            "style": "IPY_MODEL_1a502952ca1943159d692bd7e8e2c391",
            "value": 291
          }
        },
        "3d2ede36a0ed4a34ba9eaac4d8aab369": {
          "model_module": "@jupyter-widgets/controls",
          "model_name": "HTMLModel",
          "model_module_version": "1.5.0",
          "state": {
            "_dom_classes": [],
            "_model_module": "@jupyter-widgets/controls",
            "_model_module_version": "1.5.0",
            "_model_name": "HTMLModel",
            "_view_count": null,
            "_view_module": "@jupyter-widgets/controls",
            "_view_module_version": "1.5.0",
            "_view_name": "HTMLView",
            "description": "",
            "description_tooltip": null,
            "layout": "IPY_MODEL_2aa1cd2213e9436a84e01857dc65ad4d",
            "placeholder": "​",
            "style": "IPY_MODEL_32bfc42032224fcab8ca9278200ad58e",
            "value": " 291/291 [00:00&lt;00:00, 20.1kB/s]"
          }
        },
        "1aeba34f189c419cb7ba12d048f96c41": {
          "model_module": "@jupyter-widgets/base",
          "model_name": "LayoutModel",
          "model_module_version": "1.2.0",
          "state": {
            "_model_module": "@jupyter-widgets/base",
            "_model_module_version": "1.2.0",
            "_model_name": "LayoutModel",
            "_view_count": null,
            "_view_module": "@jupyter-widgets/base",
            "_view_module_version": "1.2.0",
            "_view_name": "LayoutView",
            "align_content": null,
            "align_items": null,
            "align_self": null,
            "border": null,
            "bottom": null,
            "display": null,
            "flex": null,
            "flex_flow": null,
            "grid_area": null,
            "grid_auto_columns": null,
            "grid_auto_flow": null,
            "grid_auto_rows": null,
            "grid_column": null,
            "grid_gap": null,
            "grid_row": null,
            "grid_template_areas": null,
            "grid_template_columns": null,
            "grid_template_rows": null,
            "height": null,
            "justify_content": null,
            "justify_items": null,
            "left": null,
            "margin": null,
            "max_height": null,
            "max_width": null,
            "min_height": null,
            "min_width": null,
            "object_fit": null,
            "object_position": null,
            "order": null,
            "overflow": null,
            "overflow_x": null,
            "overflow_y": null,
            "padding": null,
            "right": null,
            "top": null,
            "visibility": null,
            "width": null
          }
        },
        "98b100ba8cef4e1db921d5363bd0192f": {
          "model_module": "@jupyter-widgets/base",
          "model_name": "LayoutModel",
          "model_module_version": "1.2.0",
          "state": {
            "_model_module": "@jupyter-widgets/base",
            "_model_module_version": "1.2.0",
            "_model_name": "LayoutModel",
            "_view_count": null,
            "_view_module": "@jupyter-widgets/base",
            "_view_module_version": "1.2.0",
            "_view_name": "LayoutView",
            "align_content": null,
            "align_items": null,
            "align_self": null,
            "border": null,
            "bottom": null,
            "display": null,
            "flex": null,
            "flex_flow": null,
            "grid_area": null,
            "grid_auto_columns": null,
            "grid_auto_flow": null,
            "grid_auto_rows": null,
            "grid_column": null,
            "grid_gap": null,
            "grid_row": null,
            "grid_template_areas": null,
            "grid_template_columns": null,
            "grid_template_rows": null,
            "height": null,
            "justify_content": null,
            "justify_items": null,
            "left": null,
            "margin": null,
            "max_height": null,
            "max_width": null,
            "min_height": null,
            "min_width": null,
            "object_fit": null,
            "object_position": null,
            "order": null,
            "overflow": null,
            "overflow_x": null,
            "overflow_y": null,
            "padding": null,
            "right": null,
            "top": null,
            "visibility": null,
            "width": null
          }
        },
        "9cc57cda5a2441779ae2d34e94d3c4d1": {
          "model_module": "@jupyter-widgets/controls",
          "model_name": "DescriptionStyleModel",
          "model_module_version": "1.5.0",
          "state": {
            "_model_module": "@jupyter-widgets/controls",
            "_model_module_version": "1.5.0",
            "_model_name": "DescriptionStyleModel",
            "_view_count": null,
            "_view_module": "@jupyter-widgets/base",
            "_view_module_version": "1.2.0",
            "_view_name": "StyleView",
            "description_width": ""
          }
        },
        "06fc7cba04874001b55b7811c6420333": {
          "model_module": "@jupyter-widgets/base",
          "model_name": "LayoutModel",
          "model_module_version": "1.2.0",
          "state": {
            "_model_module": "@jupyter-widgets/base",
            "_model_module_version": "1.2.0",
            "_model_name": "LayoutModel",
            "_view_count": null,
            "_view_module": "@jupyter-widgets/base",
            "_view_module_version": "1.2.0",
            "_view_name": "LayoutView",
            "align_content": null,
            "align_items": null,
            "align_self": null,
            "border": null,
            "bottom": null,
            "display": null,
            "flex": null,
            "flex_flow": null,
            "grid_area": null,
            "grid_auto_columns": null,
            "grid_auto_flow": null,
            "grid_auto_rows": null,
            "grid_column": null,
            "grid_gap": null,
            "grid_row": null,
            "grid_template_areas": null,
            "grid_template_columns": null,
            "grid_template_rows": null,
            "height": null,
            "justify_content": null,
            "justify_items": null,
            "left": null,
            "margin": null,
            "max_height": null,
            "max_width": null,
            "min_height": null,
            "min_width": null,
            "object_fit": null,
            "object_position": null,
            "order": null,
            "overflow": null,
            "overflow_x": null,
            "overflow_y": null,
            "padding": null,
            "right": null,
            "top": null,
            "visibility": null,
            "width": null
          }
        },
        "1a502952ca1943159d692bd7e8e2c391": {
          "model_module": "@jupyter-widgets/controls",
          "model_name": "ProgressStyleModel",
          "model_module_version": "1.5.0",
          "state": {
            "_model_module": "@jupyter-widgets/controls",
            "_model_module_version": "1.5.0",
            "_model_name": "ProgressStyleModel",
            "_view_count": null,
            "_view_module": "@jupyter-widgets/base",
            "_view_module_version": "1.2.0",
            "_view_name": "StyleView",
            "bar_color": null,
            "description_width": ""
          }
        },
        "2aa1cd2213e9436a84e01857dc65ad4d": {
          "model_module": "@jupyter-widgets/base",
          "model_name": "LayoutModel",
          "model_module_version": "1.2.0",
          "state": {
            "_model_module": "@jupyter-widgets/base",
            "_model_module_version": "1.2.0",
            "_model_name": "LayoutModel",
            "_view_count": null,
            "_view_module": "@jupyter-widgets/base",
            "_view_module_version": "1.2.0",
            "_view_name": "LayoutView",
            "align_content": null,
            "align_items": null,
            "align_self": null,
            "border": null,
            "bottom": null,
            "display": null,
            "flex": null,
            "flex_flow": null,
            "grid_area": null,
            "grid_auto_columns": null,
            "grid_auto_flow": null,
            "grid_auto_rows": null,
            "grid_column": null,
            "grid_gap": null,
            "grid_row": null,
            "grid_template_areas": null,
            "grid_template_columns": null,
            "grid_template_rows": null,
            "height": null,
            "justify_content": null,
            "justify_items": null,
            "left": null,
            "margin": null,
            "max_height": null,
            "max_width": null,
            "min_height": null,
            "min_width": null,
            "object_fit": null,
            "object_position": null,
            "order": null,
            "overflow": null,
            "overflow_x": null,
            "overflow_y": null,
            "padding": null,
            "right": null,
            "top": null,
            "visibility": null,
            "width": null
          }
        },
        "32bfc42032224fcab8ca9278200ad58e": {
          "model_module": "@jupyter-widgets/controls",
          "model_name": "DescriptionStyleModel",
          "model_module_version": "1.5.0",
          "state": {
            "_model_module": "@jupyter-widgets/controls",
            "_model_module_version": "1.5.0",
            "_model_name": "DescriptionStyleModel",
            "_view_count": null,
            "_view_module": "@jupyter-widgets/base",
            "_view_module_version": "1.2.0",
            "_view_name": "StyleView",
            "description_width": ""
          }
        },
        "52cf7990b6f34060968eda769c80e48f": {
          "model_module": "@jupyter-widgets/controls",
          "model_name": "HBoxModel",
          "model_module_version": "1.5.0",
          "state": {
            "_dom_classes": [],
            "_model_module": "@jupyter-widgets/controls",
            "_model_module_version": "1.5.0",
            "_model_name": "HBoxModel",
            "_view_count": null,
            "_view_module": "@jupyter-widgets/controls",
            "_view_module_version": "1.5.0",
            "_view_name": "HBoxView",
            "box_style": "",
            "children": [
              "IPY_MODEL_eeacfef31496477cbeb474f55071d0ed",
              "IPY_MODEL_1734581de00a40f5bf733c7c05ff677c",
              "IPY_MODEL_7dcff7a77fa84018ba61dac1980205fb"
            ],
            "layout": "IPY_MODEL_d3050904c6094bd1980c380caba79f83"
          }
        },
        "eeacfef31496477cbeb474f55071d0ed": {
          "model_module": "@jupyter-widgets/controls",
          "model_name": "HTMLModel",
          "model_module_version": "1.5.0",
          "state": {
            "_dom_classes": [],
            "_model_module": "@jupyter-widgets/controls",
            "_model_module_version": "1.5.0",
            "_model_name": "HTMLModel",
            "_view_count": null,
            "_view_module": "@jupyter-widgets/controls",
            "_view_module_version": "1.5.0",
            "_view_name": "HTMLView",
            "description": "",
            "description_tooltip": null,
            "layout": "IPY_MODEL_fb0f51d2c04540daafef6edb6b0f6c09",
            "placeholder": "​",
            "style": "IPY_MODEL_6dfb708ac2444681b9bc334e75dc9e9d",
            "value": "special_tokens_map.json: 100%"
          }
        },
        "1734581de00a40f5bf733c7c05ff677c": {
          "model_module": "@jupyter-widgets/controls",
          "model_name": "FloatProgressModel",
          "model_module_version": "1.5.0",
          "state": {
            "_dom_classes": [],
            "_model_module": "@jupyter-widgets/controls",
            "_model_module_version": "1.5.0",
            "_model_name": "FloatProgressModel",
            "_view_count": null,
            "_view_module": "@jupyter-widgets/controls",
            "_view_module_version": "1.5.0",
            "_view_name": "ProgressView",
            "bar_style": "success",
            "description": "",
            "description_tooltip": null,
            "layout": "IPY_MODEL_73e57bf12737459e8093fed99b934a16",
            "max": 85,
            "min": 0,
            "orientation": "horizontal",
            "style": "IPY_MODEL_df46857e4781466a81781f629842c6e1",
            "value": 85
          }
        },
        "7dcff7a77fa84018ba61dac1980205fb": {
          "model_module": "@jupyter-widgets/controls",
          "model_name": "HTMLModel",
          "model_module_version": "1.5.0",
          "state": {
            "_dom_classes": [],
            "_model_module": "@jupyter-widgets/controls",
            "_model_module_version": "1.5.0",
            "_model_name": "HTMLModel",
            "_view_count": null,
            "_view_module": "@jupyter-widgets/controls",
            "_view_module_version": "1.5.0",
            "_view_name": "HTMLView",
            "description": "",
            "description_tooltip": null,
            "layout": "IPY_MODEL_c99e4e4b51c949f9b948082765b12d0b",
            "placeholder": "​",
            "style": "IPY_MODEL_a70342beeeef4768833c72f49b57a94b",
            "value": " 85.0/85.0 [00:00&lt;00:00, 2.37kB/s]"
          }
        },
        "d3050904c6094bd1980c380caba79f83": {
          "model_module": "@jupyter-widgets/base",
          "model_name": "LayoutModel",
          "model_module_version": "1.2.0",
          "state": {
            "_model_module": "@jupyter-widgets/base",
            "_model_module_version": "1.2.0",
            "_model_name": "LayoutModel",
            "_view_count": null,
            "_view_module": "@jupyter-widgets/base",
            "_view_module_version": "1.2.0",
            "_view_name": "LayoutView",
            "align_content": null,
            "align_items": null,
            "align_self": null,
            "border": null,
            "bottom": null,
            "display": null,
            "flex": null,
            "flex_flow": null,
            "grid_area": null,
            "grid_auto_columns": null,
            "grid_auto_flow": null,
            "grid_auto_rows": null,
            "grid_column": null,
            "grid_gap": null,
            "grid_row": null,
            "grid_template_areas": null,
            "grid_template_columns": null,
            "grid_template_rows": null,
            "height": null,
            "justify_content": null,
            "justify_items": null,
            "left": null,
            "margin": null,
            "max_height": null,
            "max_width": null,
            "min_height": null,
            "min_width": null,
            "object_fit": null,
            "object_position": null,
            "order": null,
            "overflow": null,
            "overflow_x": null,
            "overflow_y": null,
            "padding": null,
            "right": null,
            "top": null,
            "visibility": null,
            "width": null
          }
        },
        "fb0f51d2c04540daafef6edb6b0f6c09": {
          "model_module": "@jupyter-widgets/base",
          "model_name": "LayoutModel",
          "model_module_version": "1.2.0",
          "state": {
            "_model_module": "@jupyter-widgets/base",
            "_model_module_version": "1.2.0",
            "_model_name": "LayoutModel",
            "_view_count": null,
            "_view_module": "@jupyter-widgets/base",
            "_view_module_version": "1.2.0",
            "_view_name": "LayoutView",
            "align_content": null,
            "align_items": null,
            "align_self": null,
            "border": null,
            "bottom": null,
            "display": null,
            "flex": null,
            "flex_flow": null,
            "grid_area": null,
            "grid_auto_columns": null,
            "grid_auto_flow": null,
            "grid_auto_rows": null,
            "grid_column": null,
            "grid_gap": null,
            "grid_row": null,
            "grid_template_areas": null,
            "grid_template_columns": null,
            "grid_template_rows": null,
            "height": null,
            "justify_content": null,
            "justify_items": null,
            "left": null,
            "margin": null,
            "max_height": null,
            "max_width": null,
            "min_height": null,
            "min_width": null,
            "object_fit": null,
            "object_position": null,
            "order": null,
            "overflow": null,
            "overflow_x": null,
            "overflow_y": null,
            "padding": null,
            "right": null,
            "top": null,
            "visibility": null,
            "width": null
          }
        },
        "6dfb708ac2444681b9bc334e75dc9e9d": {
          "model_module": "@jupyter-widgets/controls",
          "model_name": "DescriptionStyleModel",
          "model_module_version": "1.5.0",
          "state": {
            "_model_module": "@jupyter-widgets/controls",
            "_model_module_version": "1.5.0",
            "_model_name": "DescriptionStyleModel",
            "_view_count": null,
            "_view_module": "@jupyter-widgets/base",
            "_view_module_version": "1.2.0",
            "_view_name": "StyleView",
            "description_width": ""
          }
        },
        "73e57bf12737459e8093fed99b934a16": {
          "model_module": "@jupyter-widgets/base",
          "model_name": "LayoutModel",
          "model_module_version": "1.2.0",
          "state": {
            "_model_module": "@jupyter-widgets/base",
            "_model_module_version": "1.2.0",
            "_model_name": "LayoutModel",
            "_view_count": null,
            "_view_module": "@jupyter-widgets/base",
            "_view_module_version": "1.2.0",
            "_view_name": "LayoutView",
            "align_content": null,
            "align_items": null,
            "align_self": null,
            "border": null,
            "bottom": null,
            "display": null,
            "flex": null,
            "flex_flow": null,
            "grid_area": null,
            "grid_auto_columns": null,
            "grid_auto_flow": null,
            "grid_auto_rows": null,
            "grid_column": null,
            "grid_gap": null,
            "grid_row": null,
            "grid_template_areas": null,
            "grid_template_columns": null,
            "grid_template_rows": null,
            "height": null,
            "justify_content": null,
            "justify_items": null,
            "left": null,
            "margin": null,
            "max_height": null,
            "max_width": null,
            "min_height": null,
            "min_width": null,
            "object_fit": null,
            "object_position": null,
            "order": null,
            "overflow": null,
            "overflow_x": null,
            "overflow_y": null,
            "padding": null,
            "right": null,
            "top": null,
            "visibility": null,
            "width": null
          }
        },
        "df46857e4781466a81781f629842c6e1": {
          "model_module": "@jupyter-widgets/controls",
          "model_name": "ProgressStyleModel",
          "model_module_version": "1.5.0",
          "state": {
            "_model_module": "@jupyter-widgets/controls",
            "_model_module_version": "1.5.0",
            "_model_name": "ProgressStyleModel",
            "_view_count": null,
            "_view_module": "@jupyter-widgets/base",
            "_view_module_version": "1.2.0",
            "_view_name": "StyleView",
            "bar_color": null,
            "description_width": ""
          }
        },
        "c99e4e4b51c949f9b948082765b12d0b": {
          "model_module": "@jupyter-widgets/base",
          "model_name": "LayoutModel",
          "model_module_version": "1.2.0",
          "state": {
            "_model_module": "@jupyter-widgets/base",
            "_model_module_version": "1.2.0",
            "_model_name": "LayoutModel",
            "_view_count": null,
            "_view_module": "@jupyter-widgets/base",
            "_view_module_version": "1.2.0",
            "_view_name": "LayoutView",
            "align_content": null,
            "align_items": null,
            "align_self": null,
            "border": null,
            "bottom": null,
            "display": null,
            "flex": null,
            "flex_flow": null,
            "grid_area": null,
            "grid_auto_columns": null,
            "grid_auto_flow": null,
            "grid_auto_rows": null,
            "grid_column": null,
            "grid_gap": null,
            "grid_row": null,
            "grid_template_areas": null,
            "grid_template_columns": null,
            "grid_template_rows": null,
            "height": null,
            "justify_content": null,
            "justify_items": null,
            "left": null,
            "margin": null,
            "max_height": null,
            "max_width": null,
            "min_height": null,
            "min_width": null,
            "object_fit": null,
            "object_position": null,
            "order": null,
            "overflow": null,
            "overflow_x": null,
            "overflow_y": null,
            "padding": null,
            "right": null,
            "top": null,
            "visibility": null,
            "width": null
          }
        },
        "a70342beeeef4768833c72f49b57a94b": {
          "model_module": "@jupyter-widgets/controls",
          "model_name": "DescriptionStyleModel",
          "model_module_version": "1.5.0",
          "state": {
            "_model_module": "@jupyter-widgets/controls",
            "_model_module_version": "1.5.0",
            "_model_name": "DescriptionStyleModel",
            "_view_count": null,
            "_view_module": "@jupyter-widgets/base",
            "_view_module_version": "1.2.0",
            "_view_name": "StyleView",
            "description_width": ""
          }
        },
        "d27d76f2e44b40749e84d491574c3881": {
          "model_module": "@jupyter-widgets/controls",
          "model_name": "HBoxModel",
          "model_module_version": "1.5.0",
          "state": {
            "_dom_classes": [],
            "_model_module": "@jupyter-widgets/controls",
            "_model_module_version": "1.5.0",
            "_model_name": "HBoxModel",
            "_view_count": null,
            "_view_module": "@jupyter-widgets/controls",
            "_view_module_version": "1.5.0",
            "_view_name": "HBoxView",
            "box_style": "",
            "children": [
              "IPY_MODEL_d1896ca4a1ad42e79595219fa015681f",
              "IPY_MODEL_e2e74bb38749419e8fcc9679ae0fc9e7",
              "IPY_MODEL_3c1e0f61a0794c99b135966e4811ffef"
            ],
            "layout": "IPY_MODEL_a213a72cd2d346e3935e9c432a570425"
          }
        },
        "d1896ca4a1ad42e79595219fa015681f": {
          "model_module": "@jupyter-widgets/controls",
          "model_name": "HTMLModel",
          "model_module_version": "1.5.0",
          "state": {
            "_dom_classes": [],
            "_model_module": "@jupyter-widgets/controls",
            "_model_module_version": "1.5.0",
            "_model_name": "HTMLModel",
            "_view_count": null,
            "_view_module": "@jupyter-widgets/controls",
            "_view_module_version": "1.5.0",
            "_view_name": "HTMLView",
            "description": "",
            "description_tooltip": null,
            "layout": "IPY_MODEL_988b65f023f643e281a253c55edea0f2",
            "placeholder": "​",
            "style": "IPY_MODEL_096dc46b2d724afaa28dd1d36ac2a7d8",
            "value": "config.json: 100%"
          }
        },
        "e2e74bb38749419e8fcc9679ae0fc9e7": {
          "model_module": "@jupyter-widgets/controls",
          "model_name": "FloatProgressModel",
          "model_module_version": "1.5.0",
          "state": {
            "_dom_classes": [],
            "_model_module": "@jupyter-widgets/controls",
            "_model_module_version": "1.5.0",
            "_model_name": "FloatProgressModel",
            "_view_count": null,
            "_view_module": "@jupyter-widgets/controls",
            "_view_module_version": "1.5.0",
            "_view_name": "ProgressView",
            "bar_style": "success",
            "description": "",
            "description_tooltip": null,
            "layout": "IPY_MODEL_516708d2d69b4e53940a99525659988f",
            "max": 1596,
            "min": 0,
            "orientation": "horizontal",
            "style": "IPY_MODEL_d4ef1d1b8f294cb69f1b74e285b505d4",
            "value": 1596
          }
        },
        "3c1e0f61a0794c99b135966e4811ffef": {
          "model_module": "@jupyter-widgets/controls",
          "model_name": "HTMLModel",
          "model_module_version": "1.5.0",
          "state": {
            "_dom_classes": [],
            "_model_module": "@jupyter-widgets/controls",
            "_model_module_version": "1.5.0",
            "_model_name": "HTMLModel",
            "_view_count": null,
            "_view_module": "@jupyter-widgets/controls",
            "_view_module_version": "1.5.0",
            "_view_name": "HTMLView",
            "description": "",
            "description_tooltip": null,
            "layout": "IPY_MODEL_a1871603d001491d8980cbb5f9f6861d",
            "placeholder": "​",
            "style": "IPY_MODEL_04a5eba211684ed8a19b5b002ec2217a",
            "value": " 1.60k/1.60k [00:00&lt;00:00, 104kB/s]"
          }
        },
        "a213a72cd2d346e3935e9c432a570425": {
          "model_module": "@jupyter-widgets/base",
          "model_name": "LayoutModel",
          "model_module_version": "1.2.0",
          "state": {
            "_model_module": "@jupyter-widgets/base",
            "_model_module_version": "1.2.0",
            "_model_name": "LayoutModel",
            "_view_count": null,
            "_view_module": "@jupyter-widgets/base",
            "_view_module_version": "1.2.0",
            "_view_name": "LayoutView",
            "align_content": null,
            "align_items": null,
            "align_self": null,
            "border": null,
            "bottom": null,
            "display": null,
            "flex": null,
            "flex_flow": null,
            "grid_area": null,
            "grid_auto_columns": null,
            "grid_auto_flow": null,
            "grid_auto_rows": null,
            "grid_column": null,
            "grid_gap": null,
            "grid_row": null,
            "grid_template_areas": null,
            "grid_template_columns": null,
            "grid_template_rows": null,
            "height": null,
            "justify_content": null,
            "justify_items": null,
            "left": null,
            "margin": null,
            "max_height": null,
            "max_width": null,
            "min_height": null,
            "min_width": null,
            "object_fit": null,
            "object_position": null,
            "order": null,
            "overflow": null,
            "overflow_x": null,
            "overflow_y": null,
            "padding": null,
            "right": null,
            "top": null,
            "visibility": null,
            "width": null
          }
        },
        "988b65f023f643e281a253c55edea0f2": {
          "model_module": "@jupyter-widgets/base",
          "model_name": "LayoutModel",
          "model_module_version": "1.2.0",
          "state": {
            "_model_module": "@jupyter-widgets/base",
            "_model_module_version": "1.2.0",
            "_model_name": "LayoutModel",
            "_view_count": null,
            "_view_module": "@jupyter-widgets/base",
            "_view_module_version": "1.2.0",
            "_view_name": "LayoutView",
            "align_content": null,
            "align_items": null,
            "align_self": null,
            "border": null,
            "bottom": null,
            "display": null,
            "flex": null,
            "flex_flow": null,
            "grid_area": null,
            "grid_auto_columns": null,
            "grid_auto_flow": null,
            "grid_auto_rows": null,
            "grid_column": null,
            "grid_gap": null,
            "grid_row": null,
            "grid_template_areas": null,
            "grid_template_columns": null,
            "grid_template_rows": null,
            "height": null,
            "justify_content": null,
            "justify_items": null,
            "left": null,
            "margin": null,
            "max_height": null,
            "max_width": null,
            "min_height": null,
            "min_width": null,
            "object_fit": null,
            "object_position": null,
            "order": null,
            "overflow": null,
            "overflow_x": null,
            "overflow_y": null,
            "padding": null,
            "right": null,
            "top": null,
            "visibility": null,
            "width": null
          }
        },
        "096dc46b2d724afaa28dd1d36ac2a7d8": {
          "model_module": "@jupyter-widgets/controls",
          "model_name": "DescriptionStyleModel",
          "model_module_version": "1.5.0",
          "state": {
            "_model_module": "@jupyter-widgets/controls",
            "_model_module_version": "1.5.0",
            "_model_name": "DescriptionStyleModel",
            "_view_count": null,
            "_view_module": "@jupyter-widgets/base",
            "_view_module_version": "1.2.0",
            "_view_name": "StyleView",
            "description_width": ""
          }
        },
        "516708d2d69b4e53940a99525659988f": {
          "model_module": "@jupyter-widgets/base",
          "model_name": "LayoutModel",
          "model_module_version": "1.2.0",
          "state": {
            "_model_module": "@jupyter-widgets/base",
            "_model_module_version": "1.2.0",
            "_model_name": "LayoutModel",
            "_view_count": null,
            "_view_module": "@jupyter-widgets/base",
            "_view_module_version": "1.2.0",
            "_view_name": "LayoutView",
            "align_content": null,
            "align_items": null,
            "align_self": null,
            "border": null,
            "bottom": null,
            "display": null,
            "flex": null,
            "flex_flow": null,
            "grid_area": null,
            "grid_auto_columns": null,
            "grid_auto_flow": null,
            "grid_auto_rows": null,
            "grid_column": null,
            "grid_gap": null,
            "grid_row": null,
            "grid_template_areas": null,
            "grid_template_columns": null,
            "grid_template_rows": null,
            "height": null,
            "justify_content": null,
            "justify_items": null,
            "left": null,
            "margin": null,
            "max_height": null,
            "max_width": null,
            "min_height": null,
            "min_width": null,
            "object_fit": null,
            "object_position": null,
            "order": null,
            "overflow": null,
            "overflow_x": null,
            "overflow_y": null,
            "padding": null,
            "right": null,
            "top": null,
            "visibility": null,
            "width": null
          }
        },
        "d4ef1d1b8f294cb69f1b74e285b505d4": {
          "model_module": "@jupyter-widgets/controls",
          "model_name": "ProgressStyleModel",
          "model_module_version": "1.5.0",
          "state": {
            "_model_module": "@jupyter-widgets/controls",
            "_model_module_version": "1.5.0",
            "_model_name": "ProgressStyleModel",
            "_view_count": null,
            "_view_module": "@jupyter-widgets/base",
            "_view_module_version": "1.2.0",
            "_view_name": "StyleView",
            "bar_color": null,
            "description_width": ""
          }
        },
        "a1871603d001491d8980cbb5f9f6861d": {
          "model_module": "@jupyter-widgets/base",
          "model_name": "LayoutModel",
          "model_module_version": "1.2.0",
          "state": {
            "_model_module": "@jupyter-widgets/base",
            "_model_module_version": "1.2.0",
            "_model_name": "LayoutModel",
            "_view_count": null,
            "_view_module": "@jupyter-widgets/base",
            "_view_module_version": "1.2.0",
            "_view_name": "LayoutView",
            "align_content": null,
            "align_items": null,
            "align_self": null,
            "border": null,
            "bottom": null,
            "display": null,
            "flex": null,
            "flex_flow": null,
            "grid_area": null,
            "grid_auto_columns": null,
            "grid_auto_flow": null,
            "grid_auto_rows": null,
            "grid_column": null,
            "grid_gap": null,
            "grid_row": null,
            "grid_template_areas": null,
            "grid_template_columns": null,
            "grid_template_rows": null,
            "height": null,
            "justify_content": null,
            "justify_items": null,
            "left": null,
            "margin": null,
            "max_height": null,
            "max_width": null,
            "min_height": null,
            "min_width": null,
            "object_fit": null,
            "object_position": null,
            "order": null,
            "overflow": null,
            "overflow_x": null,
            "overflow_y": null,
            "padding": null,
            "right": null,
            "top": null,
            "visibility": null,
            "width": null
          }
        },
        "04a5eba211684ed8a19b5b002ec2217a": {
          "model_module": "@jupyter-widgets/controls",
          "model_name": "DescriptionStyleModel",
          "model_module_version": "1.5.0",
          "state": {
            "_model_module": "@jupyter-widgets/controls",
            "_model_module_version": "1.5.0",
            "_model_name": "DescriptionStyleModel",
            "_view_count": null,
            "_view_module": "@jupyter-widgets/base",
            "_view_module_version": "1.2.0",
            "_view_name": "StyleView",
            "description_width": ""
          }
        },
        "afcd33c52e11440c8435c301ba718c4e": {
          "model_module": "@jupyter-widgets/controls",
          "model_name": "HBoxModel",
          "model_module_version": "1.5.0",
          "state": {
            "_dom_classes": [],
            "_model_module": "@jupyter-widgets/controls",
            "_model_module_version": "1.5.0",
            "_model_name": "HBoxModel",
            "_view_count": null,
            "_view_module": "@jupyter-widgets/controls",
            "_view_module_version": "1.5.0",
            "_view_name": "HBoxView",
            "box_style": "",
            "children": [
              "IPY_MODEL_7c27c0e35bcc4ce8982e98592d0ed6f4",
              "IPY_MODEL_6e0325052b774fa4a776952dda59202f",
              "IPY_MODEL_32a74e035ba347058548946577e27968"
            ],
            "layout": "IPY_MODEL_44e0129f7ee747da83be35326cc55b5e"
          }
        },
        "7c27c0e35bcc4ce8982e98592d0ed6f4": {
          "model_module": "@jupyter-widgets/controls",
          "model_name": "HTMLModel",
          "model_module_version": "1.5.0",
          "state": {
            "_dom_classes": [],
            "_model_module": "@jupyter-widgets/controls",
            "_model_module_version": "1.5.0",
            "_model_name": "HTMLModel",
            "_view_count": null,
            "_view_module": "@jupyter-widgets/controls",
            "_view_module_version": "1.5.0",
            "_view_name": "HTMLView",
            "description": "",
            "description_tooltip": null,
            "layout": "IPY_MODEL_e8cf51e67cc84dcbba7981a07703ddf2",
            "placeholder": "​",
            "style": "IPY_MODEL_6a833f93a5664363943f4c1b62f82432",
            "value": "model.safetensors: 100%"
          }
        },
        "6e0325052b774fa4a776952dda59202f": {
          "model_module": "@jupyter-widgets/controls",
          "model_name": "FloatProgressModel",
          "model_module_version": "1.5.0",
          "state": {
            "_dom_classes": [],
            "_model_module": "@jupyter-widgets/controls",
            "_model_module_version": "1.5.0",
            "_model_name": "FloatProgressModel",
            "_view_count": null,
            "_view_module": "@jupyter-widgets/controls",
            "_view_module_version": "1.5.0",
            "_view_name": "ProgressView",
            "bar_style": "success",
            "description": "",
            "description_tooltip": null,
            "layout": "IPY_MODEL_d2ea470cf3cc413391e84c676bc389a8",
            "max": 377607901,
            "min": 0,
            "orientation": "horizontal",
            "style": "IPY_MODEL_b28ddd8e70d04a679128b4ce28774ac2",
            "value": 377607901
          }
        },
        "32a74e035ba347058548946577e27968": {
          "model_module": "@jupyter-widgets/controls",
          "model_name": "HTMLModel",
          "model_module_version": "1.5.0",
          "state": {
            "_dom_classes": [],
            "_model_module": "@jupyter-widgets/controls",
            "_model_module_version": "1.5.0",
            "_model_name": "HTMLModel",
            "_view_count": null,
            "_view_module": "@jupyter-widgets/controls",
            "_view_module_version": "1.5.0",
            "_view_name": "HTMLView",
            "description": "",
            "description_tooltip": null,
            "layout": "IPY_MODEL_1a4a0f0104e6451aa40071f2a4006150",
            "placeholder": "​",
            "style": "IPY_MODEL_10c99ed793e64af9a44f02a57ed73b72",
            "value": " 378M/378M [00:02&lt;00:00, 196MB/s]"
          }
        },
        "44e0129f7ee747da83be35326cc55b5e": {
          "model_module": "@jupyter-widgets/base",
          "model_name": "LayoutModel",
          "model_module_version": "1.2.0",
          "state": {
            "_model_module": "@jupyter-widgets/base",
            "_model_module_version": "1.2.0",
            "_model_name": "LayoutModel",
            "_view_count": null,
            "_view_module": "@jupyter-widgets/base",
            "_view_module_version": "1.2.0",
            "_view_name": "LayoutView",
            "align_content": null,
            "align_items": null,
            "align_self": null,
            "border": null,
            "bottom": null,
            "display": null,
            "flex": null,
            "flex_flow": null,
            "grid_area": null,
            "grid_auto_columns": null,
            "grid_auto_flow": null,
            "grid_auto_rows": null,
            "grid_column": null,
            "grid_gap": null,
            "grid_row": null,
            "grid_template_areas": null,
            "grid_template_columns": null,
            "grid_template_rows": null,
            "height": null,
            "justify_content": null,
            "justify_items": null,
            "left": null,
            "margin": null,
            "max_height": null,
            "max_width": null,
            "min_height": null,
            "min_width": null,
            "object_fit": null,
            "object_position": null,
            "order": null,
            "overflow": null,
            "overflow_x": null,
            "overflow_y": null,
            "padding": null,
            "right": null,
            "top": null,
            "visibility": null,
            "width": null
          }
        },
        "e8cf51e67cc84dcbba7981a07703ddf2": {
          "model_module": "@jupyter-widgets/base",
          "model_name": "LayoutModel",
          "model_module_version": "1.2.0",
          "state": {
            "_model_module": "@jupyter-widgets/base",
            "_model_module_version": "1.2.0",
            "_model_name": "LayoutModel",
            "_view_count": null,
            "_view_module": "@jupyter-widgets/base",
            "_view_module_version": "1.2.0",
            "_view_name": "LayoutView",
            "align_content": null,
            "align_items": null,
            "align_self": null,
            "border": null,
            "bottom": null,
            "display": null,
            "flex": null,
            "flex_flow": null,
            "grid_area": null,
            "grid_auto_columns": null,
            "grid_auto_flow": null,
            "grid_auto_rows": null,
            "grid_column": null,
            "grid_gap": null,
            "grid_row": null,
            "grid_template_areas": null,
            "grid_template_columns": null,
            "grid_template_rows": null,
            "height": null,
            "justify_content": null,
            "justify_items": null,
            "left": null,
            "margin": null,
            "max_height": null,
            "max_width": null,
            "min_height": null,
            "min_width": null,
            "object_fit": null,
            "object_position": null,
            "order": null,
            "overflow": null,
            "overflow_x": null,
            "overflow_y": null,
            "padding": null,
            "right": null,
            "top": null,
            "visibility": null,
            "width": null
          }
        },
        "6a833f93a5664363943f4c1b62f82432": {
          "model_module": "@jupyter-widgets/controls",
          "model_name": "DescriptionStyleModel",
          "model_module_version": "1.5.0",
          "state": {
            "_model_module": "@jupyter-widgets/controls",
            "_model_module_version": "1.5.0",
            "_model_name": "DescriptionStyleModel",
            "_view_count": null,
            "_view_module": "@jupyter-widgets/base",
            "_view_module_version": "1.2.0",
            "_view_name": "StyleView",
            "description_width": ""
          }
        },
        "d2ea470cf3cc413391e84c676bc389a8": {
          "model_module": "@jupyter-widgets/base",
          "model_name": "LayoutModel",
          "model_module_version": "1.2.0",
          "state": {
            "_model_module": "@jupyter-widgets/base",
            "_model_module_version": "1.2.0",
            "_model_name": "LayoutModel",
            "_view_count": null,
            "_view_module": "@jupyter-widgets/base",
            "_view_module_version": "1.2.0",
            "_view_name": "LayoutView",
            "align_content": null,
            "align_items": null,
            "align_self": null,
            "border": null,
            "bottom": null,
            "display": null,
            "flex": null,
            "flex_flow": null,
            "grid_area": null,
            "grid_auto_columns": null,
            "grid_auto_flow": null,
            "grid_auto_rows": null,
            "grid_column": null,
            "grid_gap": null,
            "grid_row": null,
            "grid_template_areas": null,
            "grid_template_columns": null,
            "grid_template_rows": null,
            "height": null,
            "justify_content": null,
            "justify_items": null,
            "left": null,
            "margin": null,
            "max_height": null,
            "max_width": null,
            "min_height": null,
            "min_width": null,
            "object_fit": null,
            "object_position": null,
            "order": null,
            "overflow": null,
            "overflow_x": null,
            "overflow_y": null,
            "padding": null,
            "right": null,
            "top": null,
            "visibility": null,
            "width": null
          }
        },
        "b28ddd8e70d04a679128b4ce28774ac2": {
          "model_module": "@jupyter-widgets/controls",
          "model_name": "ProgressStyleModel",
          "model_module_version": "1.5.0",
          "state": {
            "_model_module": "@jupyter-widgets/controls",
            "_model_module_version": "1.5.0",
            "_model_name": "ProgressStyleModel",
            "_view_count": null,
            "_view_module": "@jupyter-widgets/base",
            "_view_module_version": "1.2.0",
            "_view_name": "StyleView",
            "bar_color": null,
            "description_width": ""
          }
        },
        "1a4a0f0104e6451aa40071f2a4006150": {
          "model_module": "@jupyter-widgets/base",
          "model_name": "LayoutModel",
          "model_module_version": "1.2.0",
          "state": {
            "_model_module": "@jupyter-widgets/base",
            "_model_module_version": "1.2.0",
            "_model_name": "LayoutModel",
            "_view_count": null,
            "_view_module": "@jupyter-widgets/base",
            "_view_module_version": "1.2.0",
            "_view_name": "LayoutView",
            "align_content": null,
            "align_items": null,
            "align_self": null,
            "border": null,
            "bottom": null,
            "display": null,
            "flex": null,
            "flex_flow": null,
            "grid_area": null,
            "grid_auto_columns": null,
            "grid_auto_flow": null,
            "grid_auto_rows": null,
            "grid_column": null,
            "grid_gap": null,
            "grid_row": null,
            "grid_template_areas": null,
            "grid_template_columns": null,
            "grid_template_rows": null,
            "height": null,
            "justify_content": null,
            "justify_items": null,
            "left": null,
            "margin": null,
            "max_height": null,
            "max_width": null,
            "min_height": null,
            "min_width": null,
            "object_fit": null,
            "object_position": null,
            "order": null,
            "overflow": null,
            "overflow_x": null,
            "overflow_y": null,
            "padding": null,
            "right": null,
            "top": null,
            "visibility": null,
            "width": null
          }
        },
        "10c99ed793e64af9a44f02a57ed73b72": {
          "model_module": "@jupyter-widgets/controls",
          "model_name": "DescriptionStyleModel",
          "model_module_version": "1.5.0",
          "state": {
            "_model_module": "@jupyter-widgets/controls",
            "_model_module_version": "1.5.0",
            "_model_name": "DescriptionStyleModel",
            "_view_count": null,
            "_view_module": "@jupyter-widgets/base",
            "_view_module_version": "1.2.0",
            "_view_name": "StyleView",
            "description_width": ""
          }
        }
      }
    },
    "accelerator": "GPU"
  },
  "cells": [
    {
      "cell_type": "markdown",
      "metadata": {
        "id": "view-in-github",
        "colab_type": "text"
      },
      "source": [
        "<a href=\"https://colab.research.google.com/github/poppatheduke/Deep-Machine-Learning/blob/master/Sound_to_text.ipynb\" target=\"_parent\"><img src=\"https://colab.research.google.com/assets/colab-badge.svg\" alt=\"Open In Colab\"/></a>"
      ]
    },
    {
      "cell_type": "code",
      "execution_count": null,
      "metadata": {
        "colab": {
          "base_uri": "https://localhost:8080/"
        },
        "id": "qkqpgS7W1kr6",
        "outputId": "eca7f408-4b11-4e91-ff97-907a12a8226b"
      },
      "outputs": [
        {
          "output_type": "stream",
          "name": "stdout",
          "text": [
            "Requirement already satisfied: transformers in /usr/local/lib/python3.10/dist-packages (4.38.2)\n",
            "Requirement already satisfied: filelock in /usr/local/lib/python3.10/dist-packages (from transformers) (3.13.1)\n",
            "Requirement already satisfied: huggingface-hub<1.0,>=0.19.3 in /usr/local/lib/python3.10/dist-packages (from transformers) (0.20.3)\n",
            "Requirement already satisfied: numpy>=1.17 in /usr/local/lib/python3.10/dist-packages (from transformers) (1.25.2)\n",
            "Requirement already satisfied: packaging>=20.0 in /usr/local/lib/python3.10/dist-packages (from transformers) (23.2)\n",
            "Requirement already satisfied: pyyaml>=5.1 in /usr/local/lib/python3.10/dist-packages (from transformers) (6.0.1)\n",
            "Requirement already satisfied: regex!=2019.12.17 in /usr/local/lib/python3.10/dist-packages (from transformers) (2023.12.25)\n",
            "Requirement already satisfied: requests in /usr/local/lib/python3.10/dist-packages (from transformers) (2.31.0)\n",
            "Requirement already satisfied: tokenizers<0.19,>=0.14 in /usr/local/lib/python3.10/dist-packages (from transformers) (0.15.2)\n",
            "Requirement already satisfied: safetensors>=0.4.1 in /usr/local/lib/python3.10/dist-packages (from transformers) (0.4.2)\n",
            "Requirement already satisfied: tqdm>=4.27 in /usr/local/lib/python3.10/dist-packages (from transformers) (4.66.2)\n",
            "Requirement already satisfied: fsspec>=2023.5.0 in /usr/local/lib/python3.10/dist-packages (from huggingface-hub<1.0,>=0.19.3->transformers) (2023.6.0)\n",
            "Requirement already satisfied: typing-extensions>=3.7.4.3 in /usr/local/lib/python3.10/dist-packages (from huggingface-hub<1.0,>=0.19.3->transformers) (4.10.0)\n",
            "Requirement already satisfied: charset-normalizer<4,>=2 in /usr/local/lib/python3.10/dist-packages (from requests->transformers) (3.3.2)\n",
            "Requirement already satisfied: idna<4,>=2.5 in /usr/local/lib/python3.10/dist-packages (from requests->transformers) (3.6)\n",
            "Requirement already satisfied: urllib3<3,>=1.21.1 in /usr/local/lib/python3.10/dist-packages (from requests->transformers) (2.0.7)\n",
            "Requirement already satisfied: certifi>=2017.4.17 in /usr/local/lib/python3.10/dist-packages (from requests->transformers) (2024.2.2)\n"
          ]
        }
      ],
      "source": [
        "!pip install --upgrade transformers"
      ]
    },
    {
      "cell_type": "code",
      "source": [
        "import transformers\n",
        "print(transformers.__version__)"
      ],
      "metadata": {
        "colab": {
          "base_uri": "https://localhost:8080/"
        },
        "id": "3dY6hiCj1nkU",
        "outputId": "0c8b207b-3859-4d6f-a6a4-6ffcd44fa863"
      },
      "execution_count": null,
      "outputs": [
        {
          "output_type": "stream",
          "name": "stdout",
          "text": [
            "4.38.2\n"
          ]
        }
      ]
    },
    {
      "cell_type": "code",
      "source": [
        "import librosa\n",
        "import torch\n",
        "import IPython.display as display\n",
        "from transformers import Wav2Vec2ForCTC, Wav2Vec2Tokenizer\n",
        "import numpy as np"
      ],
      "metadata": {
        "id": "QqZY1USZ165n"
      },
      "execution_count": null,
      "outputs": []
    },
    {
      "cell_type": "code",
      "source": [
        "tokenizer = Wav2Vec2Tokenizer.from_pretrained(\"facebook/wav2vec2-base-960h\")\n",
        "model = Wav2Vec2ForCTC.from_pretrained(\"facebook/wav2vec2-base-960h\")"
      ],
      "metadata": {
        "colab": {
          "base_uri": "https://localhost:8080/",
          "height": 475,
          "referenced_widgets": [
            "9c2fb69387024ba9abb8681f15e167c8",
            "825a434c6350468fbacf239defe3cfa6",
            "c3e1151039b44bc88af1c8303ccf869c",
            "6a090b2a2f6d4d98bd109711c281d025",
            "a1ef8e9fda484e878b1863f44d245551",
            "826d821f42814c14a0b53943a721f80f",
            "deef545d86cc4b5aa1b876d7f7be06a1",
            "765eb1028f964bf7a4966463c17cb36b",
            "bf7515f9c2784c7bbba17cbe8c944e32",
            "5aff730e3aee49c88cc5280caf487c3d",
            "a1b3cbe147ab44119aee0ea8230a6b81",
            "e46c9abb90334d3e94bc706a80646ec0",
            "efe27b8fcd8942c0802dbc484996ddc4",
            "7095cf409e394a36989b299c4473cdda",
            "3d2ede36a0ed4a34ba9eaac4d8aab369",
            "1aeba34f189c419cb7ba12d048f96c41",
            "98b100ba8cef4e1db921d5363bd0192f",
            "9cc57cda5a2441779ae2d34e94d3c4d1",
            "06fc7cba04874001b55b7811c6420333",
            "1a502952ca1943159d692bd7e8e2c391",
            "2aa1cd2213e9436a84e01857dc65ad4d",
            "32bfc42032224fcab8ca9278200ad58e",
            "52cf7990b6f34060968eda769c80e48f",
            "eeacfef31496477cbeb474f55071d0ed",
            "1734581de00a40f5bf733c7c05ff677c",
            "7dcff7a77fa84018ba61dac1980205fb",
            "d3050904c6094bd1980c380caba79f83",
            "fb0f51d2c04540daafef6edb6b0f6c09",
            "6dfb708ac2444681b9bc334e75dc9e9d",
            "73e57bf12737459e8093fed99b934a16",
            "df46857e4781466a81781f629842c6e1",
            "c99e4e4b51c949f9b948082765b12d0b",
            "a70342beeeef4768833c72f49b57a94b",
            "d27d76f2e44b40749e84d491574c3881",
            "d1896ca4a1ad42e79595219fa015681f",
            "e2e74bb38749419e8fcc9679ae0fc9e7",
            "3c1e0f61a0794c99b135966e4811ffef",
            "a213a72cd2d346e3935e9c432a570425",
            "988b65f023f643e281a253c55edea0f2",
            "096dc46b2d724afaa28dd1d36ac2a7d8",
            "516708d2d69b4e53940a99525659988f",
            "d4ef1d1b8f294cb69f1b74e285b505d4",
            "a1871603d001491d8980cbb5f9f6861d",
            "04a5eba211684ed8a19b5b002ec2217a",
            "afcd33c52e11440c8435c301ba718c4e",
            "7c27c0e35bcc4ce8982e98592d0ed6f4",
            "6e0325052b774fa4a776952dda59202f",
            "32a74e035ba347058548946577e27968",
            "44e0129f7ee747da83be35326cc55b5e",
            "e8cf51e67cc84dcbba7981a07703ddf2",
            "6a833f93a5664363943f4c1b62f82432",
            "d2ea470cf3cc413391e84c676bc389a8",
            "b28ddd8e70d04a679128b4ce28774ac2",
            "1a4a0f0104e6451aa40071f2a4006150",
            "10c99ed793e64af9a44f02a57ed73b72"
          ]
        },
        "id": "yQIZeaRo1_nF",
        "outputId": "96b4abb8-ceca-42f3-b356-8e19454b0e93"
      },
      "execution_count": null,
      "outputs": [
        {
          "output_type": "stream",
          "name": "stderr",
          "text": [
            "/usr/local/lib/python3.10/dist-packages/huggingface_hub/utils/_token.py:88: UserWarning: \n",
            "The secret `HF_TOKEN` does not exist in your Colab secrets.\n",
            "To authenticate with the Hugging Face Hub, create a token in your settings tab (https://huggingface.co/settings/tokens), set it as secret in your Google Colab and restart your session.\n",
            "You will be able to reuse this secret in all of your notebooks.\n",
            "Please note that authentication is recommended but still optional to access public models or datasets.\n",
            "  warnings.warn(\n"
          ]
        },
        {
          "output_type": "display_data",
          "data": {
            "text/plain": [
              "tokenizer_config.json:   0%|          | 0.00/163 [00:00<?, ?B/s]"
            ],
            "application/vnd.jupyter.widget-view+json": {
              "version_major": 2,
              "version_minor": 0,
              "model_id": "9c2fb69387024ba9abb8681f15e167c8"
            }
          },
          "metadata": {}
        },
        {
          "output_type": "display_data",
          "data": {
            "text/plain": [
              "vocab.json:   0%|          | 0.00/291 [00:00<?, ?B/s]"
            ],
            "application/vnd.jupyter.widget-view+json": {
              "version_major": 2,
              "version_minor": 0,
              "model_id": "e46c9abb90334d3e94bc706a80646ec0"
            }
          },
          "metadata": {}
        },
        {
          "output_type": "display_data",
          "data": {
            "text/plain": [
              "special_tokens_map.json:   0%|          | 0.00/85.0 [00:00<?, ?B/s]"
            ],
            "application/vnd.jupyter.widget-view+json": {
              "version_major": 2,
              "version_minor": 0,
              "model_id": "52cf7990b6f34060968eda769c80e48f"
            }
          },
          "metadata": {}
        },
        {
          "output_type": "display_data",
          "data": {
            "text/plain": [
              "config.json:   0%|          | 0.00/1.60k [00:00<?, ?B/s]"
            ],
            "application/vnd.jupyter.widget-view+json": {
              "version_major": 2,
              "version_minor": 0,
              "model_id": "d27d76f2e44b40749e84d491574c3881"
            }
          },
          "metadata": {}
        },
        {
          "output_type": "stream",
          "name": "stderr",
          "text": [
            "The tokenizer class you load from this checkpoint is not the same type as the class this function is called from. It may result in unexpected tokenization. \n",
            "The tokenizer class you load from this checkpoint is 'Wav2Vec2CTCTokenizer'. \n",
            "The class this function is called from is 'Wav2Vec2Tokenizer'.\n",
            "/usr/local/lib/python3.10/dist-packages/transformers/models/wav2vec2/tokenization_wav2vec2.py:733: FutureWarning: The class `Wav2Vec2Tokenizer` is deprecated and will be removed in version 5 of Transformers. Please use `Wav2Vec2Processor` or `Wav2Vec2CTCTokenizer` instead.\n",
            "  warnings.warn(\n"
          ]
        },
        {
          "output_type": "display_data",
          "data": {
            "text/plain": [
              "model.safetensors:   0%|          | 0.00/378M [00:00<?, ?B/s]"
            ],
            "application/vnd.jupyter.widget-view+json": {
              "version_major": 2,
              "version_minor": 0,
              "model_id": "afcd33c52e11440c8435c301ba718c4e"
            }
          },
          "metadata": {}
        },
        {
          "output_type": "stream",
          "name": "stderr",
          "text": [
            "Some weights of the model checkpoint at facebook/wav2vec2-base-960h were not used when initializing Wav2Vec2ForCTC: ['wav2vec2.encoder.pos_conv_embed.conv.weight_g', 'wav2vec2.encoder.pos_conv_embed.conv.weight_v']\n",
            "- This IS expected if you are initializing Wav2Vec2ForCTC from the checkpoint of a model trained on another task or with another architecture (e.g. initializing a BertForSequenceClassification model from a BertForPreTraining model).\n",
            "- This IS NOT expected if you are initializing Wav2Vec2ForCTC from the checkpoint of a model that you expect to be exactly identical (initializing a BertForSequenceClassification model from a BertForSequenceClassification model).\n",
            "Some weights of Wav2Vec2ForCTC were not initialized from the model checkpoint at facebook/wav2vec2-base-960h and are newly initialized: ['wav2vec2.encoder.pos_conv_embed.conv.parametrizations.weight.original0', 'wav2vec2.encoder.pos_conv_embed.conv.parametrizations.weight.original1', 'wav2vec2.masked_spec_embed']\n",
            "You should probably TRAIN this model on a down-stream task to be able to use it for predictions and inference.\n"
          ]
        }
      ]
    },
    {
      "cell_type": "code",
      "source": [
        "#load audio file\n",
        "audio, sampling_rate = librosa.load(\"./20240313-115628.mp3\", sr=16000)"
      ],
      "metadata": {
        "id": "DCVG6SaC2Ei6"
      },
      "execution_count": null,
      "outputs": []
    },
    {
      "cell_type": "code",
      "source": [
        "audio,sampling_rate"
      ],
      "metadata": {
        "id": "yySSKywP4BwF",
        "colab": {
          "base_uri": "https://localhost:8080/"
        },
        "outputId": "6c1242d4-f350-4f27-f364-435791838b5c"
      },
      "execution_count": null,
      "outputs": [
        {
          "output_type": "execute_result",
          "data": {
            "text/plain": [
              "(array([-6.76730144e-16,  1.07125845e-16,  6.83025092e-15, ...,\n",
              "        -1.78258313e-04,  4.17988922e-04,  0.00000000e+00], dtype=float32),\n",
              " 16000)"
            ]
          },
          "metadata": {},
          "execution_count": 6
        }
      ]
    },
    {
      "cell_type": "code",
      "source": [
        "# audio\n",
        "display.Audio(\"./20240313-115628.mp3\", autoplay=True)"
      ],
      "metadata": {
        "id": "emeh4S6_2NeJ",
        "colab": {
          "base_uri": "https://localhost:8080/",
          "height": 75
        },
        "outputId": "547a503d-05fc-4c49-be35-b9220e3d14f5"
      },
      "execution_count": null,
      "outputs": [
        {
          "output_type": "execute_result",
          "data": {
            "text/plain": [
              "<IPython.lib.display.Audio object>"
            ],
            "text/html": [
              "\n",
              "                <audio  controls=\"controls\" autoplay=\"autoplay\">\n",
              "                    <source src=\"data:audio/mpeg;base64,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\" type=\"audio/mpeg\" />\n",
              "                    Your browser does not support the audio element.\n",
              "                </audio>\n",
              "              "
            ]
          },
          "metadata": {},
          "execution_count": 8
        }
      ]
    },
    {
      "cell_type": "code",
      "source": [
        "input_values = tokenizer(audio, return_tensors = 'pt').input_values\n",
        "input_values"
      ],
      "metadata": {
        "colab": {
          "base_uri": "https://localhost:8080/"
        },
        "id": "lAkQ5PO3DvYO",
        "outputId": "f0f91280-3577-4322-b55e-df7a62abbbb2"
      },
      "execution_count": null,
      "outputs": [
        {
          "output_type": "execute_result",
          "data": {
            "text/plain": [
              "tensor([[ 0.0018,  0.0018,  0.0018,  ..., -0.0019,  0.0102,  0.0018]])"
            ]
          },
          "metadata": {},
          "execution_count": 9
        }
      ]
    },
    {
      "cell_type": "code",
      "source": [
        "# store logits (non-normalized predictions)\n",
        "logits = model(input_values).logits\n",
        "logits"
      ],
      "metadata": {
        "colab": {
          "base_uri": "https://localhost:8080/"
        },
        "id": "e9bjqqJSD1JX",
        "outputId": "784894f2-0510-4812-99e3-fd2c1c7ecbbe"
      },
      "execution_count": null,
      "outputs": [
        {
          "output_type": "execute_result",
          "data": {
            "text/plain": [
              "tensor([[[ 11.2373, -23.8176, -23.5570,  ...,  -5.2447,  -6.4462,  -5.7691],\n",
              "         [ 11.2633, -23.8372, -23.5769,  ...,  -5.2437,  -6.4348,  -5.7541],\n",
              "         [ 11.2817, -23.8663, -23.6077,  ...,  -5.2645,  -6.4312,  -5.7493],\n",
              "         ...,\n",
              "         [ 11.4257, -23.8576, -23.5978,  ...,  -5.3394,  -7.0075,  -5.6734],\n",
              "         [ 11.3831, -23.8080, -23.5503,  ...,  -5.3111,  -7.0330,  -5.6679],\n",
              "         [ 11.3179, -23.7706, -23.5163,  ...,  -5.2893,  -7.0002,  -5.6645]]],\n",
              "       grad_fn=<ViewBackward0>)"
            ]
          },
          "metadata": {},
          "execution_count": 10
        }
      ]
    },
    {
      "cell_type": "code",
      "source": [
        "# store predicted id's\n",
        "# pass the logit values to softmax to get the predicted values\n",
        "predicted_ids = torch.argmax(logits, dim =-1)"
      ],
      "metadata": {
        "id": "aMXi-FR1Dwht"
      },
      "execution_count": null,
      "outputs": []
    },
    {
      "cell_type": "code",
      "source": [
        "# pass the prediction to the tokenzer decode to get the transcription\n",
        "transcriptions = tokenizer.decode(predicted_ids[0])"
      ],
      "metadata": {
        "id": "lWseGYP1EC2c"
      },
      "execution_count": null,
      "outputs": []
    },
    {
      "cell_type": "code",
      "source": [
        "transcriptions"
      ],
      "metadata": {
        "colab": {
          "base_uri": "https://localhost:8080/",
          "height": 35
        },
        "id": "vhaHT88aEHrU",
        "outputId": "607229a1-13a3-489b-cfa0-d9fc43bb2412"
      },
      "execution_count": null,
      "outputs": [
        {
          "output_type": "execute_result",
          "data": {
            "text/plain": [
              "'HALLO KEEP ON SEARCIN'"
            ],
            "application/vnd.google.colaboratory.intrinsic+json": {
              "type": "string"
            }
          },
          "metadata": {},
          "execution_count": 14
        }
      ]
    },
    {
      "cell_type": "markdown",
      "source": [],
      "metadata": {
        "id": "dg2-kcHj1K4b"
      }
    }
  ]
}